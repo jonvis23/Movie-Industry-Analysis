{
 "cells": [
  {
   "attachments": {},
   "cell_type": "markdown",
   "metadata": {},
   "source": [
    "### Exploratory Data Analysis on Movie Data"
   ]
  },
  {
   "attachments": {},
   "cell_type": "markdown",
   "metadata": {},
   "source": [
    "## Scope:\n",
    "This project is general analysis of movie data to determine which features contribute to successful movies. The first portion involves importing and cleaning the data, and although not all tables will be used, I preliminarily decided to go through and clean all of them. Once the data is cleaned, there are a few questions gleaned from the data that I think are worth answering. There is a significant amount of additional insights that can be drawn from this data, but these are the questions I will focus on:\n",
    "\n",
    "1. [What is a reasonable budget and net profit for a movie?](#Question1)\n",
    "2. [Who are the top competitors?](#Question2)\n",
    "3. [Which director/s should be considered to hire?](#Question3)\n",
    "4. [Which genres have the highest net profit?](#Question4)\n",
    "\n"
   ]
  },
  {
   "cell_type": "markdown",
   "metadata": {},
   "source": [
    "# Importing and cleaning the data\n",
    "\n",
    "Here is a general overview of steps taken to clean the data before drawing conclusions.\n",
    "\n",
    " - Importing all csv files into pandas dataframes\n",
    " - Inspecting the data to get an initial preview and general understanding of the data\n",
    " - Replacing missing values as necessary\n",
    " - Dropping any unnecessary columns\n",
    " - Updating columns to a useable data type"
   ]
  },
  {
   "cell_type": "code",
   "execution_count": 1,
   "metadata": {},
   "outputs": [],
   "source": [
    "#Import necessary libraries\n",
    "import pandas as pd\n",
    "import numpy as np\n",
    "from scipy.stats import pearsonr\n",
    "import seaborn as sns\n",
    "import matplotlib.pyplot as plt\n",
    "%matplotlib inline"
   ]
  },
  {
   "cell_type": "markdown",
   "metadata": {},
   "source": [
    "Import data into a pandas dataframe"
   ]
  },
  {
   "cell_type": "code",
   "execution_count": 7,
   "metadata": {},
   "outputs": [],
   "source": [
    "#Import data into pandas dataframes\n",
    "movie_gross_df = pd.read_csv('Data/bom.movie_gross.csv')\n",
    "movie_basics_df = pd.read_csv('Data/name.basics.csv')\n",
    "movie_title_akas_df = pd.read_csv('Data/title.akas.csv')\n",
    "movie_title_basics_df = pd.read_csv('Data/title.basics.csv')\n",
    "movie_title_crew_df = pd.read_csv('Data/title.crew.csv', )\n",
    "movie_title_principals_df = pd.read_csv('Data/title.principals.csv')\n",
    "movie_title_ratings_df = pd.read_csv('Data/title.ratings.csv')\n",
    "movie_info_df = pd.read_csv('Data/rt.movie_info.tsv', sep='\\t')\n",
    "movie_reviews_df = pd.read_csv('Data/rt.reviews.tsv', sep='\\t', encoding='cp1252')\n",
    "tmdb_movies_df = pd.read_csv('Data/tmdb.movies.csv')\n",
    "movie_budgets_df = pd.read_csv('Data/tn.movie_budgets.csv')"
   ]
  },
  {
   "cell_type": "markdown",
   "metadata": {},
   "source": [
    "Preview all dataframes to determine if everything loaded properly and get an initial look at the data."
   ]
  },
  {
   "cell_type": "code",
   "execution_count": null,
   "metadata": {},
   "outputs": [],
   "source": [
    "all_dfs = [movie_gross_df, movie_basics_df, movie_title_akas_df, movie_title_basics_df,\n",
    "             movie_title_crew_df, movie_title_principals_df, movie_title_ratings_df, movie_info_df,\n",
    "             movie_reviews_df, tmdb_movies_df, movie_budgets_df]\n",
    "df_names = ['movie_gross', 'movie_basics', 'movie_title_akas', 'movie_title_basics',\n",
    "           'movie_title_crew', 'movie_title_principals', 'movie_title_ratings', 'movie_info',\n",
    "           'movie_reviews', 'tmdb_movies', 'movie_budgets']\n",
    "for i in range(len(all_dfs)):\n",
    "    print(df_names[i], '\\n')\n",
    "    display(all_dfs[i].info())\n",
    "    display(all_dfs[i].head())"
   ]
  },
  {
   "attachments": {},
   "cell_type": "markdown",
   "metadata": {},
   "source": [
    "After scanning the output, we notice here are a few columns among all the dataframes that have a majority of their values missing. Dropping these columns as they do not provide any value for this particular project."
   ]
  },
  {
   "cell_type": "code",
   "execution_count": 10,
   "metadata": {},
   "outputs": [],
   "source": [
    "#Use pandas drop method to remove columns\n",
    "movie_basics_df.drop(['birth_year', 'death_year'], axis=1, inplace=True)\n",
    "movie_title_akas_df.drop(['language', 'attributes', 'types'], axis=1, inplace=True)\n",
    "movie_title_principals_df.drop(['job', 'characters'], axis=1, inplace=True)"
   ]
  },
  {
   "attachments": {},
   "cell_type": "markdown",
   "metadata": {},
   "source": [
    "Working through each dataframe to deal with missing values and updating to appropriate data types as necessary, beginning with the movie_gross_df."
   ]
  },
  {
   "cell_type": "code",
   "execution_count": null,
   "metadata": {},
   "outputs": [],
   "source": [
    "#Preview the data\n",
    "display(movie_gross_df.info())\n",
    "movie_gross_df.head()"
   ]
  },
  {
   "cell_type": "code",
   "execution_count": 12,
   "metadata": {},
   "outputs": [],
   "source": [
    "#Fill missing values for studio column with 'Missing', fill domestic_gross and foreign_gross missing values with median\n",
    "movie_gross_df['studio'].fillna('Missing', inplace=True)\n",
    "movie_gross_df['domestic_gross'].fillna(movie_gross_df.domestic_gross.median(), inplace=True)\n",
    "movie_gross_df['foreign_gross'].fillna(movie_gross_df.domestic_gross.median(), inplace=True)"
   ]
  },
  {
   "cell_type": "code",
   "execution_count": null,
   "metadata": {},
   "outputs": [],
   "source": [
    "#Preview info to ensure missing values were taken care of\n",
    "movie_gross_df.info()"
   ]
  },
  {
   "cell_type": "code",
   "execution_count": null,
   "metadata": {},
   "outputs": [],
   "source": [
    "#Remove extraneous comma\n",
    "movie_gross_df['foreign_gross'].replace(',', '', regex=True, inplace=True)"
   ]
  },
  {
   "cell_type": "code",
   "execution_count": null,
   "metadata": {},
   "outputs": [],
   "source": [
    "#Change foreign_gross to float64\n",
    "movie_gross_df['foreign_gross'] = movie_gross_df['foreign_gross'].astype('float64')"
   ]
  },
  {
   "cell_type": "code",
   "execution_count": null,
   "metadata": {},
   "outputs": [],
   "source": [
    "movie_gross_df.info()"
   ]
  }
 ],
 "metadata": {
  "kernelspec": {
   "display_name": "Python (learn-env)",
   "language": "python",
   "name": "learn-env"
  },
  "language_info": {
   "codemirror_mode": {
    "name": "ipython",
    "version": 3
   },
   "file_extension": ".py",
   "mimetype": "text/x-python",
   "name": "python",
   "nbconvert_exporter": "python",
   "pygments_lexer": "ipython3",
   "version": "3.8.5"
  },
  "orig_nbformat": 4
 },
 "nbformat": 4,
 "nbformat_minor": 2
}
